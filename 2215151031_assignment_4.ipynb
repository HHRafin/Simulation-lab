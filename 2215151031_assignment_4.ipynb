{
  "nbformat": 4,
  "nbformat_minor": 0,
  "metadata": {
    "colab": {
      "provenance": []
    },
    "kernelspec": {
      "name": "python3",
      "display_name": "Python 3"
    },
    "language_info": {
      "name": "python"
    }
  },
  "cells": [
    {
      "cell_type": "markdown",
      "source": [
        "# Md Hasibul Hossain Rafin\n",
        "# ID- 2215151031"
      ],
      "metadata": {
        "id": "zO54OTcaESKb"
      }
    },
    {
      "cell_type": "code",
      "source": [
        "import numpy as np\n",
        "from scipy import stats\n",
        "\n",
        "# Set seed for reproducibility\n",
        "np.random.seed(42)\n",
        "\n",
        "# Parameters for the first normal distribution\n",
        "mu1, sigma1 = 50, 10  # Mean = 50, Std Dev = 10\n",
        "sample1 = np.random.normal(mu1, sigma1, 50)\n",
        "\n",
        "# Parameters for the second normal distribution\n",
        "mu2, sigma2 = 55, 12  # Mean = 55, Std Dev = 12\n",
        "sample2 = np.random.normal(mu2, sigma2, 50)\n",
        "\n",
        "# Perform two-sample t-test\n",
        "t_stat, p_value = stats.ttest_ind(sample1, sample2)\n",
        "\n",
        "# Output results\n",
        "print(f\"T-Statistic: {t_stat}\")\n",
        "print(f\"P-Value: {p_value}\")\n",
        "\n",
        "# Interpretation\n",
        "alpha = 0.05\n",
        "if p_value < alpha:\n",
        "    print(\"Reject the null hypothesis: The means are significantly different.\")\n",
        "else:\n",
        "    print(\"Fail to reject the null hypothesis: No significant difference between means.\")\n"
      ],
      "metadata": {
        "colab": {
          "base_uri": "https://localhost:8080/"
        },
        "id": "2JxAH35m5Hm8",
        "outputId": "f7fda236-9722-4ded-8057-85a7ce9fe50c"
      },
      "execution_count": 13,
      "outputs": [
        {
          "output_type": "stream",
          "name": "stdout",
          "text": [
            "T-Statistic: -3.759958902263463\n",
            "P-Value: 0.000289106699205733\n",
            "Reject the null hypothesis: The means are significantly different.\n"
          ]
        }
      ]
    }
  ]
}