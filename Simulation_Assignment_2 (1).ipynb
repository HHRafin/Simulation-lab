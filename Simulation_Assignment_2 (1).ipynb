{
  "nbformat": 4,
  "nbformat_minor": 0,
  "metadata": {
    "colab": {
      "provenance": [],
      "toc_visible": true
    },
    "kernelspec": {
      "name": "python3",
      "display_name": "Python 3"
    },
    "language_info": {
      "name": "python"
    }
  },
  "cells": [
    {
      "cell_type": "code",
      "execution_count": null,
      "metadata": {
        "id": "YgDEtAm_4vth",
        "outputId": "ab878a14-e610-4732-c60e-8521d6132be4",
        "colab": {
          "base_uri": "https://localhost:8080/"
        }
      },
      "outputs": [
        {
          "output_type": "stream",
          "name": "stdout",
          "text": [
            "Matrix with fixed seed:\n",
            " [[10 37 16]\n",
            " [ 1 29 26]\n",
            " [30 49 30]]\n",
            "\n",
            "Matrix without fixed seed:\n",
            " [[ 9 10  1]\n",
            " [43 41 37]\n",
            " [17 37 48]]\n"
          ]
        }
      ],
      "source": [
        "import numpy as np\n",
        "\n",
        "# With fixed seed\n",
        "np.random.seed(10)\n",
        "matrix_with_seed = np.random.randint(1, 50, size=(3, 3))\n",
        "print(\"Matrix with fixed seed:\\n\", matrix_with_seed)\n",
        "\n",
        "# Without fixed seed\n",
        "matrix_without_seed = np.random.randint(1, 50, size=(3, 3))\n",
        "print(\"\\nMatrix without fixed seed:\\n\", matrix_without_seed)\n"
      ]
    },
    {
      "cell_type": "code",
      "source": [
        "import numpy as np\n",
        "\n",
        "# With fixed seed\n",
        "np.random.seed(10)\n",
        "matrix_with_seed = np.random.randint(1, 50, size=(3, 3))\n",
        "print(\"Matrix with fixed seed:\\n\", matrix_with_seed)\n",
        "\n",
        "# Without fixed seed\n",
        "matrix_without_seed = np.random.randint(1, 50, size=(3, 3))\n",
        "print(\"\\nMatrix without fixed seed:\\n\", matrix_without_seed)\n"
      ],
      "metadata": {
        "colab": {
          "base_uri": "https://localhost:8080/"
        },
        "id": "O6IiXqqRHcLE",
        "outputId": "c1aef371-8177-4dcb-b043-eb693293e128"
      },
      "execution_count": null,
      "outputs": [
        {
          "output_type": "stream",
          "name": "stdout",
          "text": [
            "Matrix with fixed seed:\n",
            " [[10 37 16]\n",
            " [ 1 29 26]\n",
            " [30 49 30]]\n",
            "\n",
            "Matrix without fixed seed:\n",
            " [[ 9 10  1]\n",
            " [43 41 37]\n",
            " [17 37 48]]\n"
          ]
        }
      ]
    },
    {
      "cell_type": "markdown",
      "source": [
        "In this code, we generate two 3×3 matrices of random integers between 1 and 50. The first matrix is created after setting a fixed seed with `np.random.seed(10)`, which initializes the random number generator to a specific starting point, ensuring that the same sequence of numbers is produced every time the code is run. This makes the output reproducible and predictable.In contrast, the second matrix is generated without resetting the seed, meaning it continues from the current state of the generator. As a result, if we run the code multiple times, the numbers in the second matrix will vary, since the generator's state changes with each call, leading to different outputs."
      ],
      "metadata": {
        "id": "0DIEE5ngKQLM"
      }
    }
  ]
}